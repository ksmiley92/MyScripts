{
 "cells": [
  {
   "cell_type": "markdown",
   "metadata": {},
   "source": [
    "# Import modules and define the project"
   ]
  },
  {
   "cell_type": "code",
   "execution_count": 11,
   "metadata": {},
   "outputs": [],
   "source": [
    "import arcpy, pprint\n",
    "aprx = arcpy.mp.ArcGISProject(\"CURRENT\")"
   ]
  },
  {
   "cell_type": "markdown",
   "metadata": {},
   "source": [
    "# Update connection properties for the entire project"
   ]
  },
  {
   "cell_type": "code",
   "execution_count": 12,
   "metadata": {},
   "outputs": [],
   "source": [
    "aprx.updateConnectionProperties(current_connection_info = \"DDOT_Test\" ,\n",
    "                               new_connection_info = \"DDOT_Prod\")"
   ]
  },
  {
   "cell_type": "markdown",
   "metadata": {},
   "source": [
    "# List any broken data sources"
   ]
  },
  {
   "cell_type": "code",
   "execution_count": 22,
   "metadata": {},
   "outputs": [
    {
     "name": "stdout",
     "output_type": "stream",
     "text": [
      "Map:Streets\n",
      "Light Gray Reference\n",
      "TrafficSigns\n",
      "StreetLights\n",
      "StreetCenterlines\n",
      "Light Gray Base\n",
      "Map:Transit\n",
      "Light Gray Reference\n",
      "MetroBusStops_DC\n",
      "MetroBusRoutes_DC\n",
      "(BROKEN)BicycleLanes_DC\n",
      "Light Gray Base\n"
     ]
    }
   ],
   "source": [
    "for m in aprx.listMaps(): #list all maps in the project\n",
    "    print(\"Map:{0}\".format(m.name)) #print each map by name\n",
    "    for lyr in m.listLayers(): #loop through each map and list its layers\n",
    "        if lyr.isBroken: #check the layer's data source\n",
    "            print(\"(BROKEN)\" + lyr.name) #if the layer's data source is broken, print BROKEN\n",
    "        else:\n",
    "            print(\"\"+lyr.name)"
   ]
  },
  {
   "cell_type": "markdown",
   "metadata": {},
   "source": [
    "# Print the connection properties dictionary"
   ]
  },
  {
   "cell_type": "code",
   "execution_count": 14,
   "metadata": {},
   "outputs": [
    {
     "name": "stdout",
     "output_type": "stream",
     "text": [
      "{'connection_info': {'database': 'C:\\\\ESRITraining\\\\PythonDataFix\\\\DDOT_Test.gdb'},\n",
      " 'dataset': 'BicycleLanes_DC',\n",
      " 'workspace_factory': 'File Geodatabase'}\n"
     ]
    }
   ],
   "source": [
    "m = aprx.listMaps(\"Transit\")[0]\n",
    "lyr = m.listLayers(\"BicycleLanes_DC\")[0]\n",
    "pprint.pprint(lyr.connectionProperties)"
   ]
  },
  {
   "cell_type": "code",
   "execution_count": 23,
   "metadata": {},
   "outputs": [
    {
     "ename": "SyntaxError",
     "evalue": "invalid syntax (<string>, line 1)",
     "output_type": "error",
     "traceback": [
      "\u001b[0;31m---------------------------------------------------------------------------\u001b[0m\n\u001b[0;31mSyntaxError\u001b[0m                               Traceback (most recent call last)",
      "File \u001b[0;34mC:\\Program Files\\ArcGIS\\Pro\\bin\\Python\\envs\\arcgispro-py3\\lib\\ast.py\u001b[0m, in \u001b[0;32mparse\u001b[0m:\nLine \u001b[0;34m50\u001b[0m:    \u001b[34mreturn\u001b[39;49;00m \u001b[36mcompile\u001b[39;49;00m(source, filename, mode, flags,\u001b[37m\u001b[39;49;00m\n",
      "\u001b[0;31mSyntaxError\u001b[0m: invalid syntax (<string>, line 1)\n\u001b[0;31m---------------------------------------------------------------------------\u001b[0m"
     ]
    }
   ],
   "source": [
    "old_cp = {'connection_info': {'database': r'C:\\EsriTraining\\PythonDataFix\\DDOT_Test.gdb' }, #add the old file path from the dictionary\n",
    "             'dataset': 'BicycleLanes_DC' ,  #add the old feature class name\n",
    "             'workspace_factory': 'File Geodatabase'}  \n",
    "new_cp = {'connection_info': {'database': r'C:\\EsriTraining\\PythonDataFix\\DDOT_Prod.gdb' }, #add the filepath for DDOT_Prod.gdb\n",
    "                'dataset': 'BicycleLanes' ,   #add the new feature class name\n",
    "                'workspace_factory': 'File Geodatabase'}"
   ]
  },
  {
   "cell_type": "code",
   "execution_count": 21,
   "metadata": {},
   "outputs": [],
   "source": [
    "lyr.updateConnectionProperties(old_cp, new_cp)"
   ]
  },
  {
   "cell_type": "code",
   "execution_count": null,
   "metadata": {},
   "outputs": [],
   "source": []
  }
 ],
 "metadata": {
  "kernelspec": {
   "display_name": "ArcGISPro",
   "language": "Python",
   "name": "python3"
  },
  "language_info": {
   "file_extension": ".py",
   "name": "python",
   "version": "3"
  }
 },
 "nbformat": 4,
 "nbformat_minor": 2
}
