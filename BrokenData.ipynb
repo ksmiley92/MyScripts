{
 "cells": [
  {
   "cell_type": "code",
   "execution_count": 1,
   "metadata": {},
   "outputs": [],
   "source": [
    "import arcpy\n",
    "\n",
    "aprx = arcpy.mp.ArcGISProject(\"CURRENT\")\n"
   ]
  },
  {
   "cell_type": "code",
   "execution_count": 5,
   "metadata": {},
   "outputs": [
    {
     "name": "stdout",
     "output_type": "stream",
     "text": [
      "[<arcpy._mp.Layer object at 0x0000024AA21D2AC0>, <arcpy._mp.Layer object at 0x0000024AA21D2250>, <arcpy._mp.Layer object at 0x0000024AA21D2370>, <arcpy._mp.Layer object at 0x0000024AA21D2430>, <arcpy._mp.Layer object at 0x0000024AA21D2490>, <arcpy._mp.Layer object at 0x0000024AA21D2850>]\n"
     ]
    }
   ],
   "source": [
    "brkn = aprx.listBrokenDataSources()\n",
    "print(brkn)\n"
   ]
  },
  {
   "cell_type": "code",
   "execution_count": 6,
   "metadata": {},
   "outputs": [],
   "source": [
    "m = aprx.listMaps(\"Streets\")[0]"
   ]
  },
  {
   "cell_type": "code",
   "execution_count": 7,
   "metadata": {},
   "outputs": [
    {
     "name": "stdout",
     "output_type": "stream",
     "text": [
      "[<arcpy._mp.Layer object at 0x0000024AA2C40E80>, <arcpy._mp.Layer object at 0x0000024AA2C40160>, <arcpy._mp.Layer object at 0x0000024AA2C40970>]\n"
     ]
    }
   ],
   "source": [
    "mbrkn = m.listBrokenDataSources()\n",
    "print(mbrkn)"
   ]
  },
  {
   "cell_type": "code",
   "execution_count": 10,
   "metadata": {},
   "outputs": [
    {
     "name": "stdout",
     "output_type": "stream",
     "text": [
      " Light Gray Reference\n",
      "(BROKEN)TrafficSigns\n",
      "(BROKEN)StreetLights\n",
      "(BROKEN)StreetCenterlines\n",
      " Light Gray Base\n"
     ]
    }
   ],
   "source": [
    "lyrs = m.listLayers()\n",
    "for l in lyrs:\n",
    "    if l.isBroken:\n",
    "        print(\"(BROKEN)\" + l.name)\n",
    "    else:\n",
    "        print(\" \" + l.name)\n"
   ]
  },
  {
   "cell_type": "code",
   "execution_count": 11,
   "metadata": {},
   "outputs": [
    {
     "name": "stdout",
     "output_type": "stream",
     "text": [
      "Map:Streets\n",
      "(BROKEN)TrafficSigns\n",
      "(BROKEN)StreetLights\n",
      "(BROKEN)StreetCenterlines\n",
      "Map:Transit\n",
      "(BROKEN)MetroBusStops_DC\n",
      "(BROKEN)MetroBusRoutes_DC\n",
      "(BROKEN)BicycleLanes_DC\n"
     ]
    }
   ],
   "source": [
    "for m in aprx.listMaps():\n",
    "    print(\"Map:{0}\".format(m.name))\n",
    "    for lyr in m.listLayers():\n",
    "        if lyr.isBroken:\n",
    "            print(\"(BROKEN)\" + lyr.name)"
   ]
  },
  {
   "cell_type": "code",
   "execution_count": null,
   "metadata": {},
   "outputs": [],
   "source": []
  }
 ],
 "metadata": {
  "kernelspec": {
   "display_name": "ArcGISPro",
   "language": "Python",
   "name": "python3"
  },
  "language_info": {
   "file_extension": ".py",
   "name": "python",
   "version": "3"
  }
 },
 "nbformat": 4,
 "nbformat_minor": 2
}
